{
 "cells": [
  {
   "cell_type": "code",
   "execution_count": 0,
   "metadata": {
    "application/vnd.databricks.v1+cell": {
     "cellMetadata": {
      "byteLimit": 2048000,
      "rowLimit": 10000
     },
     "inputWidgets": {},
     "nuid": "034b2614-2329-43d2-b872-46966fbcd5e8",
     "showTitle": true,
     "title": "Importando Bibliotecas"
    }
   },
   "outputs": [],
   "source": [
    "from azure.storage.blob import BlobServiceClient\n",
    "from datetime import datetime\n",
    "from io import StringIO\n",
    "import pandas as pd\n",
    "from pandas import DataFrame\n",
    "import ast"
   ]
  },
  {
   "cell_type": "code",
   "execution_count": 0,
   "metadata": {
    "application/vnd.databricks.v1+cell": {
     "cellMetadata": {
      "byteLimit": 2048000,
      "rowLimit": 10000
     },
     "inputWidgets": {},
     "nuid": "3827be5e-7698-4da9-93f5-40b1fa78eefb",
     "showTitle": true,
     "title": "Função para criar DataFrame"
    }
   },
   "outputs": [],
   "source": [
    "def criar_dataFrame(dados: DataFrame) -> DataFrame:\n",
    "    \"\"\"Criando DataFrame apartir dos dados\"\"\"\n",
    "    df = pd.read_csv(StringIO(dados))\n",
    "    df['dados'] = df['dados'].apply(ast.literal_eval)\n",
    "    return pd.json_normalize(df['dados'])"
   ]
  },
  {
   "cell_type": "code",
   "execution_count": 0,
   "metadata": {
    "application/vnd.databricks.v1+cell": {
     "cellMetadata": {
      "byteLimit": 2048000,
      "rowLimit": 10000
     },
     "inputWidgets": {},
     "nuid": "1a8d7d0a-44a4-4a2e-abd8-13440e6b778a",
     "showTitle": true,
     "title": "Função para converter o tempo para minutos"
    }
   },
   "outputs": [],
   "source": [
    "def converter_para_minutos(duracao: str) -> float:\n",
    "    \"\"\"Converte a duração do vídeo para minutos\"\"\"\n",
    "    duracao = duracao.split('H')\n",
    "    horas = int(duracao[0]) if len(duracao) > 1 else 0 \n",
    "    duracao = duracao[1] if len(duracao) > 1 else duracao[0]\n",
    "\n",
    "    duracao = duracao.split('M')\n",
    "    minutos = int(duracao[0]) if len(duracao) > 1 else 0 \n",
    "    duracao = duracao[1] if len(duracao) > 1 else duracao[0]\n",
    "\n",
    "    duracao = duracao.split('S')\n",
    "    segundos = int(duracao[0]) if len(duracao) > 1 else 0\n",
    "\n",
    "    return round(horas * 60 + minutos + segundos / 60, 2)"
   ]
  },
  {
   "cell_type": "code",
   "execution_count": 0,
   "metadata": {
    "application/vnd.databricks.v1+cell": {
     "cellMetadata": {
      "byteLimit": 2048000,
      "rowLimit": 10000
     },
     "inputWidgets": {},
     "nuid": "9b551877-19c1-416a-8651-f467dafd3094",
     "showTitle": true,
     "title": "Função para tratar os dados"
    }
   },
   "outputs": [],
   "source": [
    "def tratamento_dados(df: DataFrame) -> DataFrame:\n",
    "    \"\"\"Tratando Dados\"\"\"\n",
    "    #Excluindo Colunas \n",
    "    colunas_para_excluir = ['etag', 'snippet.channelId', 'snippet.thumbnails.default.url','snippet.thumbnails.default.width',\t'snippet.thumbnails.default.height','snippet.thumbnails.medium.url','snippet.thumbnails.medium.width',\t'snippet.thumbnails.medium.height',\t'snippet.thumbnails.high.url', 'snippet.thumbnails.high.width', 'snippet.thumbnails.high.height', 'snippet.thumbnails.standard.url', 'snippet.thumbnails.standard.width','snippet.thumbnails.standard.height', 'snippet.thumbnails.maxres.width', 'snippet.thumbnails.maxres.height', 'snippet.categoryId',\t'snippet.liveBroadcastContent', 'contentDetails.caption','contentDetails.licensedContent','contentDetails.projection', 'statistics.favoriteCount',  'snippet.defaultLanguage',\t'contentDetails.regionRestriction.allowed', 'snippet.localized.title', 'snippet.localized.description', 'contentDetails.dimension']\n",
    "\n",
    "    df = df.drop(colunas_para_excluir, axis=1)\n",
    "\n",
    "    #Tratando a coluna 'kind'\n",
    "    df['kind'] = df['kind'].apply(lambda x: x.replace('#', ' '))\n",
    "\n",
    "    #Criando coluna dia e Horario da publicação\n",
    "    df[['dia', 'horario']] = df['snippet.publishedAt'].str.split('T', n = 1, expand = True)\n",
    "    df = df.drop('snippet.publishedAt', axis = 1)\n",
    "\n",
    "    #Criando uma coluna chamada link com o link do video\n",
    "    df['link'] = df['id'].apply(lambda x: 'www.youtube.com/watch?v=' + x)\n",
    "\n",
    "    #Tratando a duração do video, padronizando todos em minutos\n",
    "    df['contentDetails.duration'] = df['contentDetails.duration'].apply(lambda x: x.replace('PT', ''))\n",
    "    df['contentDetails.duration'] = df['contentDetails.duration'].apply(converter_para_minutos)\n",
    "\n",
    "    #Tratando a coluna horario\n",
    "    df['horario'] = df['horario'].apply(lambda x: x.replace('Z', ''))\n",
    "\n",
    "    #Renomeando as colunas \n",
    "    mapeamento_colunas = {\n",
    "    'kind': 'tipo',\n",
    "    'snippet.title': 'titulo',\n",
    "    'snippet.description': 'descricao', \n",
    "    'snippet.thumbnails.maxres.url':'thumbnails_png', \n",
    "    'snippet.channelTitle': 'canal', \n",
    "    'snippet.tags': 'tags', \n",
    "    'snippet.defaultAudioLanguage':'idioma', \n",
    "    'contentDetails.duration':'duracao', \n",
    "    'contentDetails.definition': 'definicao', \n",
    "    'statistics.viewCount': 'visualizacoes', \n",
    "    'statistics.likeCount': 'likes',\n",
    "    'statistics.commentCount': 'comentarios', \n",
    "    }\n",
    "\n",
    "    df.rename(columns=mapeamento_colunas, inplace=True)\n",
    "\n",
    "    return df \n"
   ]
  },
  {
   "cell_type": "code",
   "execution_count": 0,
   "metadata": {
    "application/vnd.databricks.v1+cell": {
     "cellMetadata": {
      "byteLimit": 2048000,
      "rowLimit": 10000
     },
     "inputWidgets": {},
     "nuid": "da9f9e0b-d904-47fc-b9bb-6dd33d110666",
     "showTitle": false,
     "title": ""
    }
   },
   "outputs": [],
   "source": [
    "if __name__ == '__main__':\n",
    "\n",
    "    # Configurações\n",
    "    nome_conta = \"etldatarafael\"\n",
    "    key_conta = \"QZA1D2QY30SNBOlXTLfG8RY8IeSjfx6T4Jr2NHTJIAo16WmImq0nLQswh0zx2iTrBY4diUArdAXO+ASt4NM94A==\"\n",
    "    nome_container = \"bronze\"\n",
    "    nome_arquivo = 'data_' + datetime.now().strftime(\"%Y%m%d\") + '.csv'\n",
    "\n",
    "    # Conectar ao Blob Storage Bronze\n",
    "    blob_service_client = BlobServiceClient(account_url=f\"https://{nome_conta}.blob.core.windows.net\", credential=key_conta)\n",
    "    container_client = blob_service_client.get_container_client(nome_container)\n",
    "    cliente_blob = container_client.get_blob_client(nome_arquivo)\n",
    "    \n",
    "    #Baixando dados\n",
    "    dados = cliente_blob.download_blob().readall().decode('utf-8')\n",
    "\n",
    "    #Criando DataFrame\n",
    "    df = criar_dataFrame(dados)\n",
    "\n",
    "    #Tratando DataFrame\n",
    "    df = tratamento_dados(df)\n",
    "\n",
    "\n",
    "    nome_container = \"silver\"\n",
    "    container_client = blob_service_client.get_container_client(nome_container)\n",
    "\n",
    "    # Verifica se o arquivo já existe no Blob Storage\n",
    "    blob_client = container_client.get_blob_client(nome_arquivo)\n",
    "    if blob_client.exists():\n",
    "        # Excluindo se o arquivo ja existir \n",
    "        blob_client.delete_blob()\n",
    "\n",
    "    new_content = df.to_csv(index=False)\n",
    "\n",
    "    # Converter o conteúdo para bytes e fazer o upload para o Blob Storage\n",
    "    blob_client.upload_blob(StringIO(new_content).read().encode('utf-8'))\n"
   ]
  }
 ],
 "metadata": {
  "application/vnd.databricks.v1+notebook": {
   "dashboards": [],
   "language": "python",
   "notebookMetadata": {
    "pythonIndentUnit": 4
   },
   "notebookName": "tratamento_de_dados",
   "widgets": {}
  }
 },
 "nbformat": 4,
 "nbformat_minor": 0
}
