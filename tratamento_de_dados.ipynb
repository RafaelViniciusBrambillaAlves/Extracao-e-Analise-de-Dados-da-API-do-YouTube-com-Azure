{
 "cells": [
  {
   "cell_type": "code",
   "execution_count": 0,
   "metadata": {
    "application/vnd.databricks.v1+cell": {
     "cellMetadata": {
      "byteLimit": 2048000,
      "rowLimit": 10000
     },
     "inputWidgets": {},
     "nuid": "034b2614-2329-43d2-b872-46966fbcd5e8",
     "showTitle": true,
     "title": "Importando Bibliotecas"
    }
   },
   "outputs": [],
   "source": [
    "from azure.storage.blob import BlobServiceClient\n",
    "from datetime import datetime\n",
    "from io import StringIO\n",
    "import pandas as pd\n",
    "from pandas import DataFrame\n",
    "import ast"
   ]
  },
  {
   "cell_type": "code",
   "execution_count": 0,
   "metadata": {
    "application/vnd.databricks.v1+cell": {
     "cellMetadata": {
      "byteLimit": 2048000,
      "rowLimit": 10000
     },
     "inputWidgets": {},
     "nuid": "3827be5e-7698-4da9-93f5-40b1fa78eefb",
     "showTitle": true,
     "title": "Função para criar DataFrame"
    }
   },
   "outputs": [],
   "source": [
    "def criar_dataFrame(dados: DataFrame) -> DataFrame:\n",
    "    \"\"\"Criando DataFrame apartir dos dados\"\"\"\n",
    "    df = pd.read_csv(StringIO(dados))\n",
    "    df['dados'] = df['dados'].apply(ast.literal_eval)\n",
    "    return pd.json_normalize(df['dados'])"
   ]
  },
  {
   "cell_type": "code",
   "execution_count": 0,
   "metadata": {
    "application/vnd.databricks.v1+cell": {
     "cellMetadata": {
      "byteLimit": 2048000,
      "rowLimit": 10000
     },
     "inputWidgets": {},
     "nuid": "1a8d7d0a-44a4-4a2e-abd8-13440e6b778a",
     "showTitle": true,
     "title": "Função para converter o tempo para minutos"
    }
   },
   "outputs": [],
   "source": [
    "def converter_para_minutos(duracao: str) -> float:\n",
    "    \"\"\"Converte a duração do vídeo para minutos\"\"\"\n",
    "    duracao = duracao.split('H')\n",
    "    horas = int(duracao[0]) if len(duracao) > 1 else 0 \n",
    "    duracao = duracao[1] if len(duracao) > 1 else duracao[0]\n",
    "\n",
    "    duracao = duracao.split('M')\n",
    "    minutos = int(duracao[0]) if len(duracao) > 1 else 0 \n",
    "    duracao = duracao[1] if len(duracao) > 1 else duracao[0]\n",
    "\n",
    "    duracao = duracao.split('S')\n",
    "    segundos = int(duracao[0]) if len(duracao) > 1 else 0\n",
    "\n",
    "    return round(horas * 60 + minutos + segundos / 60, 2)"
   ]
  },
  {
   "cell_type": "code",
   "execution_count": 0,
   "metadata": {
    "application/vnd.databricks.v1+cell": {
     "cellMetadata": {
      "byteLimit": 2048000,
      "rowLimit": 10000
     },
     "inputWidgets": {},
     "nuid": "9b551877-19c1-416a-8651-f467dafd3094",
     "showTitle": true,
     "title": "Função para tratar os dados"
    }
   },
   "outputs": [],
   "source": [
    "def tratamento_dados(df: DataFrame) -> DataFrame:\n",
    "    \"\"\"Tratando Dados\"\"\"\n",
    "    #Excluindo Colunas \n",
    "    colunas_para_excluir = ['etag', 'snippet.channelId', 'snippet.thumbnails.default.url','snippet.thumbnails.default.width',\t'snippet.thumbnails.default.height','snippet.thumbnails.medium.url','snippet.thumbnails.medium.width',\t'snippet.thumbnails.medium.height',\t'snippet.thumbnails.high.url', 'snippet.thumbnails.high.width', 'snippet.thumbnails.high.height', 'snippet.thumbnails.standard.url', 'snippet.thumbnails.standard.width','snippet.thumbnails.standard.height', 'snippet.thumbnails.maxres.width', 'snippet.thumbnails.maxres.height', 'snippet.categoryId',\t'snippet.liveBroadcastContent', 'contentDetails.caption','contentDetails.licensedContent','contentDetails.projection', 'statistics.favoriteCount',  'snippet.defaultLanguage',\t'contentDetails.regionRestriction.allowed', 'snippet.localized.title', 'snippet.localized.description', 'contentDetails.dimension']\n",
    "\n",
    "    df = df.drop(colunas_para_excluir, axis=1)\n",
    "\n",
    "    #Tratando a coluna 'kind'\n",
    "    df['kind'] = df['kind'].apply(lambda x: x.replace('#', ' '))\n",
    "\n",
    "    #Criando coluna dia e Horario da publicação\n",
    "    df[['dia', 'horario']] = df['snippet.publishedAt'].str.split('T', n = 1, expand = True)\n",
    "    df = df.drop('snippet.publishedAt', axis = 1)\n",
    "\n",
    "    #Criando uma coluna chamada link com o link do video\n",
    "    df['link'] = df['id'].apply(lambda x: 'www.youtube.com/watch?v=' + x)\n",
    "\n",
    "    #Tratando a duração do video, padronizando todos em minutos\n",
    "    df['contentDetails.duration'] = df['contentDetails.duration'].apply(lambda x: x.replace('PT', ''))\n",
    "    df['contentDetails.duration'] = df['contentDetails.duration'].apply(converter_para_minutos)\n",
    "\n",
    "    #Tratando a coluna horario\n",
    "    df['horario'] = df['horario'].apply(lambda x: x.replace('Z', ''))\n",
    "\n",
    "    #Renomeando as colunas \n",
    "    mapeamento_colunas = {\n",
    "    'kind': 'tipo',\n",
    "    'snippet.title': 'titulo',\n",
    "    'snippet.description': 'descricao', \n",
    "    'snippet.thumbnails.maxres.url':'thumbnails_png', \n",
    "    'snippet.channelTitle': 'canal', \n",
    "    'snippet.tags': 'tags', \n",
    "    'snippet.defaultAudioLanguage':'idioma', \n",
    "    'contentDetails.duration':'duracao', \n",
    "    'contentDetails.definition': 'definicao', \n",
    "    'statistics.viewCount': 'visualizacoes', \n",
    "    'statistics.likeCount': 'likes',\n",
    "    'statistics.commentCount': 'comentarios', \n",
    "    'contentDetails.regionRestriction.blocked': 'Regioes_bloqueadas'\n",
    "    }\n",
    "\n",
    "    df.rename(columns=mapeamento_colunas, inplace=True)\n",
    "\n",
    "    return df \n"
   ]
  },
  {
   "cell_type": "code",
   "execution_count": 0,
   "metadata": {
    "application/vnd.databricks.v1+cell": {
     "cellMetadata": {
      "byteLimit": 2048000,
      "rowLimit": 10000
     },
     "inputWidgets": {},
     "nuid": "da9f9e0b-d904-47fc-b9bb-6dd33d110666",
     "showTitle": false,
     "title": ""
    }
   },
   "outputs": [],
   "source": [
    "if __name__ == '__main__':\n",
    "\n",
    "    # Configurações\n",
    "    nome_conta = \"etldatarafael\"\n",
    "    key_conta = \"QZA1D2QY30SNBOlXTLfG8RY8IeSjfx6T4Jr2NHTJIAo16WmImq0nLQswh0zx2iTrBY4diUArdAXO+ASt4NM94A==\"\n",
    "    nome_container = \"bronze\"\n",
    "    nome_arquivo = 'data_' + datetime.now().strftime(\"%Y%m%d\") + '.csv'\n",
    "\n",
    "    # Conectar ao Blob Storage Bronze\n",
    "    blob_service_client = BlobServiceClient(account_url=f\"https://{nome_conta}.blob.core.windows.net\", credential=key_conta)\n",
    "    container_client = blob_service_client.get_container_client(nome_container)\n",
    "    cliente_blob = container_client.get_blob_client(nome_arquivo)\n",
    "    \n",
    "    #Baixando dados\n",
    "    dados = cliente_blob.download_blob().readall().decode('utf-8')\n",
    "\n",
    "    #Criando DataFrame\n",
    "    df = criar_dataFrame(dados)\n",
    "\n",
    "    #Tratando DataFrame\n",
    "    df = tratamento_dados(df)\n",
    "\n",
    "\n",
    "    nome_container = \"silver\"\n",
    "    container_client = blob_service_client.get_container_client(nome_container)\n",
    "\n",
    "    # Verifica se o arquivo já existe no Blob Storage\n",
    "    blob_client = container_client.get_blob_client(nome_arquivo)\n",
    "    if blob_client.exists():\n",
    "        # Excluindo se o arquivo ja existir \n",
    "        blob_client.delete_blob()\n",
    "\n",
    "    new_content = df.to_csv(index=False)\n",
    "\n",
    "    # Converter o conteúdo para bytes e fazer o upload para o Blob Storage\n",
    "    blob_client.upload_blob(StringIO(new_content).read().encode('utf-8'))\n"
   ]
  },
  {
   "cell_type": "code",
   "execution_count": 0,
   "metadata": {
    "application/vnd.databricks.v1+cell": {
     "cellMetadata": {
      "byteLimit": 2048000,
      "rowLimit": 10000
     },
     "inputWidgets": {},
     "nuid": "f0689b6e-84fb-425c-8e9f-ddab2da29446",
     "showTitle": false,
     "title": ""
    }
   },
   "outputs": [
    {
     "output_type": "execute_result",
     "data": {
      "text/html": [
       "<div>\n",
       "<style scoped>\n",
       "    .dataframe tbody tr th:only-of-type {\n",
       "        vertical-align: middle;\n",
       "    }\n",
       "\n",
       "    .dataframe tbody tr th {\n",
       "        vertical-align: top;\n",
       "    }\n",
       "\n",
       "    .dataframe thead th {\n",
       "        text-align: right;\n",
       "    }\n",
       "</style>\n",
       "<table border=\"1\" class=\"dataframe\">\n",
       "  <thead>\n",
       "    <tr style=\"text-align: right;\">\n",
       "      <th></th>\n",
       "      <th>tipo</th>\n",
       "      <th>id</th>\n",
       "      <th>titulo</th>\n",
       "      <th>descricao</th>\n",
       "      <th>thumbnails_png</th>\n",
       "      <th>canal</th>\n",
       "      <th>tags</th>\n",
       "      <th>idioma</th>\n",
       "      <th>duracao</th>\n",
       "      <th>definicao</th>\n",
       "      <th>visualizacoes</th>\n",
       "      <th>likes</th>\n",
       "      <th>comentarios</th>\n",
       "      <th>Regioes_bloqueadas</th>\n",
       "      <th>dia</th>\n",
       "      <th>horario</th>\n",
       "      <th>link</th>\n",
       "    </tr>\n",
       "  </thead>\n",
       "  <tbody>\n",
       "    <tr>\n",
       "      <th>0</th>\n",
       "      <td>youtube video</td>\n",
       "      <td>k_5khB5C28E</td>\n",
       "      <td>11º TÍTULO DO TIMÃO! | CORINTHIANS 1 X 0 CRUZE...</td>\n",
       "      <td>Assista a 37 jogos AO VIVO E EXCLUSIVOS da Cop...</td>\n",
       "      <td>https://i.ytimg.com/vi/k_5khB5C28E/maxresdefau...</td>\n",
       "      <td>CazéTV</td>\n",
       "      <td>[CazéTV, Cazé TV, Casimiro ao vivo, Casimiro, ...</td>\n",
       "      <td>pt-BR</td>\n",
       "      <td>7.42</td>\n",
       "      <td>hd</td>\n",
       "      <td>293822</td>\n",
       "      <td>11994</td>\n",
       "      <td>1497</td>\n",
       "      <td>NaN</td>\n",
       "      <td>2024-01-25</td>\n",
       "      <td>20:37:32</td>\n",
       "      <td>www.youtube.com/watch?v=k_5khB5C28E</td>\n",
       "    </tr>\n",
       "    <tr>\n",
       "      <th>1</th>\n",
       "      <td>youtube video</td>\n",
       "      <td>1MpUldfp43Q</td>\n",
       "      <td>PALMEIRAS 3 X 2 INTER DE LIMEIRA | MELHORES MO...</td>\n",
       "      <td>Confira os melhores momentos da vitória de 3 a...</td>\n",
       "      <td>https://i.ytimg.com/vi/1MpUldfp43Q/maxresdefau...</td>\n",
       "      <td>Paulistão</td>\n",
       "      <td>[Futebol Paulista, Melhores Momentos Paulistão...</td>\n",
       "      <td>pt</td>\n",
       "      <td>6.02</td>\n",
       "      <td>hd</td>\n",
       "      <td>237524</td>\n",
       "      <td>5726</td>\n",
       "      <td>213</td>\n",
       "      <td>[US]</td>\n",
       "      <td>2024-01-25</td>\n",
       "      <td>03:13:51</td>\n",
       "      <td>www.youtube.com/watch?v=1MpUldfp43Q</td>\n",
       "    </tr>\n",
       "    <tr>\n",
       "      <th>2</th>\n",
       "      <td>youtube video</td>\n",
       "      <td>dPXgN_9l0aM</td>\n",
       "      <td>BOAVISTA X BOTAFOGO | CAMPEONATO CARIOCA | AO ...</td>\n",
       "      <td>#boavista  #botafogo  #campeonatocarioca \\n\\nJ...</td>\n",
       "      <td>https://i.ytimg.com/vi/dPXgN_9l0aM/maxresdefau...</td>\n",
       "      <td>Canal GOAT</td>\n",
       "      <td>[campeonato carioca, campeonato estadual, cari...</td>\n",
       "      <td>pt</td>\n",
       "      <td>161.58</td>\n",
       "      <td>hd</td>\n",
       "      <td>903558</td>\n",
       "      <td>35921</td>\n",
       "      <td>30</td>\n",
       "      <td>NaN</td>\n",
       "      <td>2024-01-25</td>\n",
       "      <td>02:47:19</td>\n",
       "      <td>www.youtube.com/watch?v=dPXgN_9l0aM</td>\n",
       "    </tr>\n",
       "    <tr>\n",
       "      <th>3</th>\n",
       "      <td>youtube video</td>\n",
       "      <td>5f4zOWDj1Mw</td>\n",
       "      <td>Construi uma BASE INTEIRA só pro meu PET em 10...</td>\n",
       "      <td>😍😍 Compre agora mesmo o seu RedMagic e jogue c...</td>\n",
       "      <td>https://i.ytimg.com/vi/5f4zOWDj1Mw/maxresdefau...</td>\n",
       "      <td>Fixz</td>\n",
       "      <td>[fixz, craft fixz, creative squad 2, creative ...</td>\n",
       "      <td>pt</td>\n",
       "      <td>29.75</td>\n",
       "      <td>hd</td>\n",
       "      <td>124874</td>\n",
       "      <td>6388</td>\n",
       "      <td>186</td>\n",
       "      <td>NaN</td>\n",
       "      <td>2024-01-25</td>\n",
       "      <td>14:00:04</td>\n",
       "      <td>www.youtube.com/watch?v=5f4zOWDj1Mw</td>\n",
       "    </tr>\n",
       "    <tr>\n",
       "      <th>4</th>\n",
       "      <td>youtube video</td>\n",
       "      <td>4wulgy2d_YA</td>\n",
       "      <td>BARCELONA 2 X 1 VITÓRIA | PARTIDA COMPLETA | #...</td>\n",
       "      <td>Barcelona e Vitória se enfrentam no #BaianãoNa...</td>\n",
       "      <td>https://i.ytimg.com/vi/4wulgy2d_YA/maxresdefau...</td>\n",
       "      <td>TVE Bahia</td>\n",
       "      <td>[tve, tve bahia, tve da bahia, tv e, tve agora...</td>\n",
       "      <td>pt</td>\n",
       "      <td>148.92</td>\n",
       "      <td>hd</td>\n",
       "      <td>436095</td>\n",
       "      <td>13648</td>\n",
       "      <td>35</td>\n",
       "      <td>NaN</td>\n",
       "      <td>2024-01-25</td>\n",
       "      <td>02:52:52</td>\n",
       "      <td>www.youtube.com/watch?v=4wulgy2d_YA</td>\n",
       "    </tr>\n",
       "  </tbody>\n",
       "</table>\n",
       "</div>"
      ],
      "text/plain": [
       "            tipo           id  ...   horario                                 link\n",
       "0  youtube video  k_5khB5C28E  ...  20:37:32  www.youtube.com/watch?v=k_5khB5C28E\n",
       "1  youtube video  1MpUldfp43Q  ...  03:13:51  www.youtube.com/watch?v=1MpUldfp43Q\n",
       "2  youtube video  dPXgN_9l0aM  ...  02:47:19  www.youtube.com/watch?v=dPXgN_9l0aM\n",
       "3  youtube video  5f4zOWDj1Mw  ...  14:00:04  www.youtube.com/watch?v=5f4zOWDj1Mw\n",
       "4  youtube video  4wulgy2d_YA  ...  02:52:52  www.youtube.com/watch?v=4wulgy2d_YA\n",
       "\n",
       "[5 rows x 17 columns]"
      ]
     },
     "execution_count": 12,
     "metadata": {},
     "output_type": "execute_result"
    }
   ],
   "source": [
    "df.head()"
   ]
  }
 ],
 "metadata": {
  "application/vnd.databricks.v1+notebook": {
   "dashboards": [],
   "language": "python",
   "notebookMetadata": {
    "pythonIndentUnit": 4
   },
   "notebookName": "tratamento_de_dados",
   "widgets": {}
  }
 },
 "nbformat": 4,
 "nbformat_minor": 0
}
