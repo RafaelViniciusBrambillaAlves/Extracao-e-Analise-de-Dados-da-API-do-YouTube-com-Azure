{
 "cells": [
  {
   "cell_type": "code",
   "execution_count": null,
   "metadata": {
    "application/vnd.databricks.v1+cell": {
     "cellMetadata": {
      "byteLimit": 2048000,
      "rowLimit": 10000
     },
     "inputWidgets": {},
     "nuid": "11fec42c-6ed9-4fab-8445-54b34b60f47a",
     "showTitle": false,
     "title": ""
    }
   },
   "outputs": [
    {
     "name": "stderr",
     "output_type": "stream",
     "text": [
      "INFO:py4j.clientserver:Received command c on object id p0\n"
     ]
    },
    {
     "name": "stdout",
     "output_type": "stream",
     "text": [
      "\u001b[43mNote: you may need to restart the kernel using dbutils.library.restartPython() to use updated packages.\u001b[0m\n",
      "Requirement already satisfied: google-api-python-client in /local_disk0/.ephemeral_nfs/envs/pythonEnv-5b89b019-0471-4dec-b612-dab6c7a9742d/lib/python3.10/site-packages (2.115.0)\n",
      "Requirement already satisfied: google-auth<3.0.0.dev0,>=1.19.0 in /databricks/python3/lib/python3.10/site-packages (from google-api-python-client) (2.21.0)\n",
      "Requirement already satisfied: uritemplate<5,>=3.0.1 in /local_disk0/.ephemeral_nfs/envs/pythonEnv-5b89b019-0471-4dec-b612-dab6c7a9742d/lib/python3.10/site-packages (from google-api-python-client) (4.1.1)\n",
      "Requirement already satisfied: google-api-core!=2.0.*,!=2.1.*,!=2.2.*,!=2.3.0,<3.0.0.dev0,>=1.31.5 in /databricks/python3/lib/python3.10/site-packages (from google-api-python-client) (2.14.0)\n",
      "Requirement already satisfied: httplib2<1.dev0,>=0.15.0 in /usr/lib/python3/dist-packages (from google-api-python-client) (0.20.2)\n",
      "Requirement already satisfied: google-auth-httplib2>=0.1.0 in /local_disk0/.ephemeral_nfs/envs/pythonEnv-5b89b019-0471-4dec-b612-dab6c7a9742d/lib/python3.10/site-packages (from google-api-python-client) (0.2.0)\n",
      "Requirement already satisfied: googleapis-common-protos<2.0.dev0,>=1.56.2 in /databricks/python3/lib/python3.10/site-packages (from google-api-core!=2.0.*,!=2.1.*,!=2.2.*,!=2.3.0,<3.0.0.dev0,>=1.31.5->google-api-python-client) (1.61.0)\n",
      "Requirement already satisfied: protobuf!=3.20.0,!=3.20.1,!=4.21.0,!=4.21.1,!=4.21.2,!=4.21.3,!=4.21.4,!=4.21.5,<5.0.0.dev0,>=3.19.5 in /databricks/python3/lib/python3.10/site-packages (from google-api-core!=2.0.*,!=2.1.*,!=2.2.*,!=2.3.0,<3.0.0.dev0,>=1.31.5->google-api-python-client) (4.24.0)\n",
      "Requirement already satisfied: requests<3.0.0.dev0,>=2.18.0 in /databricks/python3/lib/python3.10/site-packages (from google-api-core!=2.0.*,!=2.1.*,!=2.2.*,!=2.3.0,<3.0.0.dev0,>=1.31.5->google-api-python-client) (2.28.1)\n",
      "Requirement already satisfied: urllib3<2.0 in /databricks/python3/lib/python3.10/site-packages (from google-auth<3.0.0.dev0,>=1.19.0->google-api-python-client) (1.26.14)\n",
      "Requirement already satisfied: pyasn1-modules>=0.2.1 in /databricks/python3/lib/python3.10/site-packages (from google-auth<3.0.0.dev0,>=1.19.0->google-api-python-client) (0.2.8)\n",
      "Requirement already satisfied: six>=1.9.0 in /usr/lib/python3/dist-packages (from google-auth<3.0.0.dev0,>=1.19.0->google-api-python-client) (1.16.0)\n",
      "Requirement already satisfied: rsa<5,>=3.1.4 in /databricks/python3/lib/python3.10/site-packages (from google-auth<3.0.0.dev0,>=1.19.0->google-api-python-client) (4.9)\n",
      "Requirement already satisfied: cachetools<6.0,>=2.0.0 in /databricks/python3/lib/python3.10/site-packages (from google-auth<3.0.0.dev0,>=1.19.0->google-api-python-client) (5.3.2)\n",
      "Requirement already satisfied: pyparsing!=3.0.0,!=3.0.1,!=3.0.2,!=3.0.3,<4,>=2.4.2 in /databricks/python3/lib/python3.10/site-packages (from httplib2<1.dev0,>=0.15.0->google-api-python-client) (3.0.9)\n",
      "Requirement already satisfied: pyasn1<0.5.0,>=0.4.6 in /databricks/python3/lib/python3.10/site-packages (from pyasn1-modules>=0.2.1->google-auth<3.0.0.dev0,>=1.19.0->google-api-python-client) (0.4.8)\n",
      "Requirement already satisfied: idna<4,>=2.5 in /databricks/python3/lib/python3.10/site-packages (from requests<3.0.0.dev0,>=2.18.0->google-api-core!=2.0.*,!=2.1.*,!=2.2.*,!=2.3.0,<3.0.0.dev0,>=1.31.5->google-api-python-client) (3.4)\n",
      "Requirement already satisfied: certifi>=2017.4.17 in /databricks/python3/lib/python3.10/site-packages (from requests<3.0.0.dev0,>=2.18.0->google-api-core!=2.0.*,!=2.1.*,!=2.2.*,!=2.3.0,<3.0.0.dev0,>=1.31.5->google-api-python-client) (2022.12.7)\n",
      "Requirement already satisfied: charset-normalizer<3,>=2 in /databricks/python3/lib/python3.10/site-packages (from requests<3.0.0.dev0,>=2.18.0->google-api-core!=2.0.*,!=2.1.*,!=2.2.*,!=2.3.0,<3.0.0.dev0,>=1.31.5->google-api-python-client) (2.0.4)\n"
     ]
    },
    {
     "name": "stderr",
     "output_type": "stream",
     "text": [
      "INFO:py4j.clientserver:Received command c on object id p0\n",
      "INFO:py4j.clientserver:Received command c on object id p0\n",
      "INFO:py4j.clientserver:Received command c on object id p0\n",
      "INFO:py4j.clientserver:Received command c on object id p0\n"
     ]
    },
    {
     "name": "stdout",
     "output_type": "stream",
     "text": [
      "\u001b[43mNote: you may need to restart the kernel using dbutils.library.restartPython() to use updated packages.\u001b[0m\n"
     ]
    }
   ],
   "source": [
    "!pip install google-api-python-client"
   ]
  },
  {
   "cell_type": "code",
   "execution_count": null,
   "metadata": {
    "application/vnd.databricks.v1+cell": {
     "cellMetadata": {
      "byteLimit": 2048000,
      "rowLimit": 10000
     },
     "inputWidgets": {},
     "nuid": "03462a4f-6679-4b6e-9257-f3ac42a3df23",
     "showTitle": true,
     "title": "Importando Bibliotecas"
    }
   },
   "outputs": [
    {
     "name": "stderr",
     "output_type": "stream",
     "text": [
      "INFO:py4j.clientserver:Received command c on object id p1\n"
     ]
    }
   ],
   "source": [
    "from azure.storage.blob import BlobServiceClient, BlobClient, ContainerClient\n",
    "from datetime import datetime\n",
    "import pandas as pd\n",
    "from io import StringIO\n",
    "from googleapiclient.discovery import build\n",
    "from pandas import DataFrame"
   ]
  },
  {
   "cell_type": "code",
   "execution_count": null,
   "metadata": {
    "application/vnd.databricks.v1+cell": {
     "cellMetadata": {
      "byteLimit": 2048000,
      "rowLimit": 10000
     },
     "inputWidgets": {},
     "nuid": "d3a5c898-8859-4ec6-bb0a-06da94a319fa",
     "showTitle": true,
     "title": "Função para coletar dados da API do Youtube"
    }
   },
   "outputs": [
    {
     "name": "stderr",
     "output_type": "stream",
     "text": [
      "INFO:py4j.clientserver:Received command c on object id p1\n"
     ]
    }
   ],
   "source": [
    "def coletar_dados_youtube(api_key: str, max_results = 50) -> list:\n",
    "    \"\"\"Coletando dados do YouTube\"\"\"\n",
    "    youtube = build('youtube', 'v3', developerKey = api_key)\n",
    "\n",
    "    search_response = youtube.videos().list(\n",
    "        part='snippet,contentDetails,statistics',\n",
    "        chart='mostPopular',\n",
    "        regionCode='BR',\n",
    "        maxResults=max_results\n",
    "    ).execute()\n",
    "\n",
    "    dados = [{'dados': video} for video in search_response.get(\"items\", [])]\n",
    "    return dados"
   ]
  },
  {
   "cell_type": "code",
   "execution_count": null,
   "metadata": {
    "application/vnd.databricks.v1+cell": {
     "cellMetadata": {
      "byteLimit": 2048000,
      "rowLimit": 10000
     },
     "inputWidgets": {},
     "nuid": "e749810d-fe4c-4102-b264-ce1fb075d008",
     "showTitle": true,
     "title": "Função para criar um DataFrame"
    }
   },
   "outputs": [
    {
     "name": "stderr",
     "output_type": "stream",
     "text": [
      "INFO:py4j.clientserver:Received command c on object id p1\n"
     ]
    }
   ],
   "source": [
    "def criar_dataframe(dados: list) -> DataFrame:\n",
    "    \"\"\"Criando DataFrame\"\"\"\n",
    "    return pd.DataFrame(dados)"
   ]
  },
  {
   "cell_type": "code",
   "execution_count": null,
   "metadata": {
    "application/vnd.databricks.v1+cell": {
     "cellMetadata": {
      "byteLimit": 2048000,
      "rowLimit": 10000
     },
     "inputWidgets": {},
     "nuid": "1f783ab2-ec46-428d-af66-65dd79f552f1",
     "showTitle": true,
     "title": "Função para verificar e excluir o arquivo do Blob"
    }
   },
   "outputs": [
    {
     "name": "stderr",
     "output_type": "stream",
     "text": [
      "INFO:py4j.clientserver:Received command c on object id p1\n"
     ]
    }
   ],
   "source": [
    "def verificar_excluir_arquivo_blob(blob_client, nome_arquivo: str) -> None:\n",
    "    \"\"\"Verificando e excluindo arquivo existente no Blob Storage\"\"\"\n",
    "    if blob_client.exists():\n",
    "        blob_client.delete_blob()"
   ]
  },
  {
   "cell_type": "code",
   "execution_count": null,
   "metadata": {
    "application/vnd.databricks.v1+cell": {
     "cellMetadata": {
      "byteLimit": 2048000,
      "rowLimit": 10000
     },
     "inputWidgets": {},
     "nuid": "964cf04f-89ab-42b3-be6f-a6248ece64ca",
     "showTitle": true,
     "title": "Função para fazer upload do arquivo no Blob"
    }
   },
   "outputs": [
    {
     "name": "stderr",
     "output_type": "stream",
     "text": [
      "INFO:py4j.clientserver:Received command c on object id p1\n"
     ]
    }
   ],
   "source": [
    "def fazer_upload_blob(blob_client, nome_arquivo : str, conteudo) -> None:\n",
    "    \"\"\"Fazendo upload do arquivo para o Blob Storage\"\"\"\n",
    "    blob_client.upload_blob(StringIO(conteudo).read().encode('utf-8'))"
   ]
  },
  {
   "cell_type": "code",
   "execution_count": null,
   "metadata": {
    "application/vnd.databricks.v1+cell": {
     "cellMetadata": {
      "byteLimit": 2048000,
      "rowLimit": 10000
     },
     "inputWidgets": {},
     "nuid": "f8f69e6a-07ec-4b59-82fb-d6acdb992abf",
     "showTitle": false,
     "title": ""
    }
   },
   "outputs": [
    {
     "name": "stderr",
     "output_type": "stream",
     "text": [
      "INFO:py4j.clientserver:Received command c on object id p1\n",
      "INFO:googleapiclient.discovery_cache:file_cache is only supported with oauth2client<4.0.0\n",
      "INFO:py4j.clientserver:Received command c on object id p0\n",
      "INFO:azure.core.pipeline.policies.http_logging_policy:Request URL: 'https://etldatarafael.blob.core.windows.net/bronze/data_20240125.csv'\n",
      "Request method: 'HEAD'\n",
      "Request headers:\n",
      "    'x-ms-version': 'REDACTED'\n",
      "    'Accept': 'application/xml'\n",
      "    'User-Agent': 'azsdk-python-storage-blob/12.19.0 Python/3.10.12 (Linux-5.15.0-1053-azure-x86_64-with-glibc2.35)'\n",
      "    'x-ms-date': 'REDACTED'\n",
      "    'x-ms-client-request-id': '7cbb7ee4-bb81-11ee-84f4-00163ef8255f'\n",
      "    'Authorization': 'REDACTED'\n",
      "No body was attached to the request\n",
      "INFO:azure.core.pipeline.policies.http_logging_policy:Response status: 200\n",
      "Response headers:\n",
      "    'Content-Length': '150976'\n",
      "    'Content-Type': 'application/octet-stream'\n",
      "    'Content-MD5': 'REDACTED'\n",
      "    'Last-Modified': 'Thu, 25 Jan 2024 12:17:04 GMT'\n",
      "    'Accept-Ranges': 'REDACTED'\n",
      "    'ETag': '\"0x8DC1D9F8A9198EF\"'\n",
      "    'Server': 'Windows-Azure-Blob/1.0 Microsoft-HTTPAPI/2.0'\n",
      "    'x-ms-request-id': '87e5f1ff-b01e-0050-128e-4f5b46000000'\n",
      "    'x-ms-client-request-id': '7cbb7ee4-bb81-11ee-84f4-00163ef8255f'\n",
      "    'x-ms-version': 'REDACTED'\n",
      "    'x-ms-creation-time': 'REDACTED'\n",
      "    'x-ms-lease-status': 'REDACTED'\n",
      "    'x-ms-lease-state': 'REDACTED'\n",
      "    'x-ms-blob-type': 'REDACTED'\n",
      "    'x-ms-server-encrypted': 'REDACTED'\n",
      "    'x-ms-access-tier': 'REDACTED'\n",
      "    'x-ms-access-tier-inferred': 'REDACTED'\n",
      "    'Date': 'Thu, 25 Jan 2024 12:58:51 GMT'\n",
      "INFO:azure.core.pipeline.policies.http_logging_policy:Request URL: 'https://etldatarafael.blob.core.windows.net/bronze/data_20240125.csv'\n",
      "Request method: 'DELETE'\n",
      "Request headers:\n",
      "    'x-ms-version': 'REDACTED'\n",
      "    'Accept': 'application/xml'\n",
      "    'User-Agent': 'azsdk-python-storage-blob/12.19.0 Python/3.10.12 (Linux-5.15.0-1053-azure-x86_64-with-glibc2.35)'\n",
      "    'x-ms-date': 'REDACTED'\n",
      "    'x-ms-client-request-id': '7ccb38ca-bb81-11ee-84f4-00163ef8255f'\n",
      "    'Authorization': 'REDACTED'\n",
      "No body was attached to the request\n",
      "INFO:azure.core.pipeline.policies.http_logging_policy:Response status: 202\n",
      "Response headers:\n",
      "    'Content-Length': '0'\n",
      "    'Server': 'Windows-Azure-Blob/1.0 Microsoft-HTTPAPI/2.0'\n",
      "    'x-ms-request-id': '87e5f206-b01e-0050-168e-4f5b46000000'\n",
      "    'x-ms-client-request-id': '7ccb38ca-bb81-11ee-84f4-00163ef8255f'\n",
      "    'x-ms-version': 'REDACTED'\n",
      "    'x-ms-delete-type-permanent': 'REDACTED'\n",
      "    'Date': 'Thu, 25 Jan 2024 12:58:51 GMT'\n",
      "INFO:azure.core.pipeline.policies.http_logging_policy:Request URL: 'https://etldatarafael.blob.core.windows.net/bronze/data_20240125.csv'\n",
      "Request method: 'PUT'\n",
      "Request headers:\n",
      "    'Content-Length': '150976'\n",
      "    'x-ms-blob-type': 'REDACTED'\n",
      "    'If-None-Match': '*'\n",
      "    'x-ms-version': 'REDACTED'\n",
      "    'Content-Type': 'application/octet-stream'\n",
      "    'Accept': 'application/xml'\n",
      "    'User-Agent': 'azsdk-python-storage-blob/12.19.0 Python/3.10.12 (Linux-5.15.0-1053-azure-x86_64-with-glibc2.35)'\n",
      "    'x-ms-date': 'REDACTED'\n",
      "    'x-ms-client-request-id': '7ccd9502-bb81-11ee-84f4-00163ef8255f'\n",
      "    'Authorization': 'REDACTED'\n",
      "A body is sent with the request\n",
      "INFO:azure.core.pipeline.policies.http_logging_policy:Response status: 201\n",
      "Response headers:\n",
      "    'Content-Length': '0'\n",
      "    'Content-MD5': 'REDACTED'\n",
      "    'Last-Modified': 'Thu, 25 Jan 2024 12:58:51 GMT'\n",
      "    'ETag': '\"0x8DC1DA56102F7E3\"'\n",
      "    'Server': 'Windows-Azure-Blob/1.0 Microsoft-HTTPAPI/2.0'\n",
      "    'x-ms-request-id': '87e5f211-b01e-0050-218e-4f5b46000000'\n",
      "    'x-ms-client-request-id': '7ccd9502-bb81-11ee-84f4-00163ef8255f'\n",
      "    'x-ms-version': 'REDACTED'\n",
      "    'x-ms-content-crc64': 'REDACTED'\n",
      "    'x-ms-request-server-encrypted': 'REDACTED'\n",
      "    'Date': 'Thu, 25 Jan 2024 12:58:51 GMT'\n"
     ]
    }
   ],
   "source": [
    "if __name__ == \"__main__\":\n",
    "    \n",
    "    # Configurações\n",
    "    key = ''\n",
    "    nome_conta = ''\n",
    "    key_conta = ''\n",
    "    nome_container = \"bronze\"\n",
    "    nome_arquivo = 'data_' + datetime.now().strftime(\"%Y%m%d\") + '.csv'\n",
    "\n",
    "    # Conectar ao Blob Storage Bronze\n",
    "    url_blob_storage = f\"https://{nome_conta}.blob.core.windows.net\"\n",
    "    blob_service_client = BlobServiceClient(account_url=url_blob_storage, credential=key_conta)\n",
    "    container_client = blob_service_client.get_container_client(nome_container)\n",
    "    blob_client = container_client.get_blob_client(nome_arquivo)\n",
    "\n",
    "    # Coletar dados\n",
    "    dados = coletar_dados_youtube(key)\n",
    "\n",
    "    #Criar DataFrame\n",
    "    df = criar_dataframe(dados)\n",
    "    \n",
    "    # Verificar/excluir arquivo existente\n",
    "    verificar_excluir_arquivo_blob(blob_client, nome_arquivo)\n",
    "    \n",
    "    # Fazer upload do novo arquivo\n",
    "    new_content = df.to_csv(index=False)\n",
    "    fazer_upload_blob(blob_client, nome_arquivo, new_content)\n"
   ]
  }
 ],
 "metadata": {
  "application/vnd.databricks.v1+notebook": {
   "dashboards": [],
   "language": "python",
   "notebookMetadata": {
    "pythonIndentUnit": 4
   },
   "notebookName": "coleta_de_dados",
   "widgets": {}
  },
  "language_info": {
   "name": "python"
  }
 },
 "nbformat": 4,
 "nbformat_minor": 0
}
